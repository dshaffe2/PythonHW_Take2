{
 "cells": [
  {
   "cell_type": "code",
   "execution_count": 23,
   "metadata": {},
   "outputs": [
    {
     "name": "stdout",
     "output_type": "stream",
     "text": [
      "Election Results\n",
      "------------------------------\n",
      "Total Votes: 3521001\n",
      "------------------------------\n",
      "Khan: 63.0% (2218231)\n",
      "Correy: 20.0% (704200)\n",
      "Li: 14.0% (492940)\n",
      "O'Tooley: 3.0% (105630)\n",
      "------------------------------\n",
      "Winner: Khan\n",
      "------------------------------\n"
     ]
    }
   ],
   "source": [
    "import csv\n",
    "filename = \"C:/Users/dshaf/Documents/School/election_data.csv\"\n",
    "totalvotes = 0\n",
    "candidates = []\n",
    "candidate1count = 0\n",
    "candidate2count = 0\n",
    "candidate3count = 0\n",
    "candidate4count = 0\n",
    "cand1_per = 0\n",
    "cand2_per = 0\n",
    "cand3_per = 0\n",
    "cand4_per = 0\n",
    "counts = []\n",
    "\n",
    "with open(filename, 'r') as file:\n",
    "    data = csv.reader(file)\n",
    "    header = next(data)    \n",
    "\n",
    "    for row in data:\n",
    "        totalvotes += 1\n",
    "        if row[2] not in candidates:\n",
    "            candidates.append(row[2])\n",
    "        if row[2] == candidates[0]:\n",
    "            candidate1count += 1\n",
    "        elif row[2] == candidates[1]:\n",
    "            candidate2count += 1\n",
    "        elif row[2] == candidates[2]:\n",
    "            candidate3count += 1\n",
    "        elif row[2] == candidates[3]:\n",
    "            candidate4count += 1\n",
    "    \n",
    "    counts = [candidate1count, candidate2count, candidate3count, candidate4count]\n",
    "    winner = candidates[counts.index(max(counts))]\n",
    "\n",
    "cand1_per = round(float(candidate1count / totalvotes * 100), 3)     \n",
    "cand2_per = round(float(candidate2count / totalvotes * 100), 3)\n",
    "cand3_per = round(float(candidate3count / totalvotes * 100), 3)\n",
    "cand4_per = round(float(candidate4count / totalvotes * 100), 3)\n",
    "            \n",
    "   \n",
    "    \n",
    "print(\"Election Results\")\n",
    "print(\"------------------------------\")\n",
    "print(f\"Total Votes: {totalvotes}\")\n",
    "print(\"------------------------------\")\n",
    "print(f\"{candidates[0]}: {cand1_per}% ({candidate1count})\")\n",
    "print(f\"{candidates[1]}: {cand2_per}% ({candidate2count})\")\n",
    "print(f\"{candidates[2]}: {cand3_per}% ({candidate3count})\")\n",
    "print(f\"{candidates[3]}: {cand4_per}% ({candidate4count})\")\n",
    "print(\"------------------------------\")\n",
    "print(f\"Winner: {winner}\")\n",
    "print(\"------------------------------\")"
   ]
  },
  {
   "cell_type": "code",
   "execution_count": null,
   "metadata": {},
   "outputs": [],
   "source": []
  }
 ],
 "metadata": {
  "kernelspec": {
   "display_name": "Python [conda root]",
   "language": "python",
   "name": "conda-root-py"
  },
  "language_info": {
   "codemirror_mode": {
    "name": "ipython",
    "version": 3
   },
   "file_extension": ".py",
   "mimetype": "text/x-python",
   "name": "python",
   "nbconvert_exporter": "python",
   "pygments_lexer": "ipython3",
   "version": "3.6.5"
  }
 },
 "nbformat": 4,
 "nbformat_minor": 2
}
